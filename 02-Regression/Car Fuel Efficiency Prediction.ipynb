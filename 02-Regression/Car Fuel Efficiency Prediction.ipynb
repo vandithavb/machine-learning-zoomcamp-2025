{
 "cells": [
  {
   "cell_type": "code",
   "execution_count": 212,
   "id": "ff9daea3-1022-4b5f-a852-fda7933db388",
   "metadata": {},
   "outputs": [],
   "source": [
    "import numpy as np\n",
    "import pandas as pd\n",
    "import matplotlib.pyplot as plt\n",
    "import seaborn as sns"
   ]
  },
  {
   "cell_type": "code",
   "execution_count": 213,
   "id": "d41573fa-cfed-4220-a51c-fb80bb12275b",
   "metadata": {},
   "outputs": [],
   "source": [
    "df = pd.read_csv('https://raw.githubusercontent.com/alexeygrigorev/datasets/master/car_fuel_efficiency.csv')"
   ]
  },
  {
   "cell_type": "code",
   "execution_count": 214,
   "id": "79c39771-290b-4f2f-baf4-9b0c1e467562",
   "metadata": {},
   "outputs": [
    {
     "data": {
      "text/html": [
       "<div>\n",
       "<style scoped>\n",
       "    .dataframe tbody tr th:only-of-type {\n",
       "        vertical-align: middle;\n",
       "    }\n",
       "\n",
       "    .dataframe tbody tr th {\n",
       "        vertical-align: top;\n",
       "    }\n",
       "\n",
       "    .dataframe thead th {\n",
       "        text-align: right;\n",
       "    }\n",
       "</style>\n",
       "<table border=\"1\" class=\"dataframe\">\n",
       "  <thead>\n",
       "    <tr style=\"text-align: right;\">\n",
       "      <th></th>\n",
       "      <th>engine_displacement</th>\n",
       "      <th>num_cylinders</th>\n",
       "      <th>horsepower</th>\n",
       "      <th>vehicle_weight</th>\n",
       "      <th>acceleration</th>\n",
       "      <th>model_year</th>\n",
       "      <th>origin</th>\n",
       "      <th>fuel_type</th>\n",
       "      <th>drivetrain</th>\n",
       "      <th>num_doors</th>\n",
       "      <th>fuel_efficiency_mpg</th>\n",
       "    </tr>\n",
       "  </thead>\n",
       "  <tbody>\n",
       "    <tr>\n",
       "      <th>0</th>\n",
       "      <td>170</td>\n",
       "      <td>3.0</td>\n",
       "      <td>159.0</td>\n",
       "      <td>3413.433759</td>\n",
       "      <td>17.7</td>\n",
       "      <td>2003</td>\n",
       "      <td>Europe</td>\n",
       "      <td>Gasoline</td>\n",
       "      <td>All-wheel drive</td>\n",
       "      <td>0.0</td>\n",
       "      <td>13.231729</td>\n",
       "    </tr>\n",
       "    <tr>\n",
       "      <th>1</th>\n",
       "      <td>130</td>\n",
       "      <td>5.0</td>\n",
       "      <td>97.0</td>\n",
       "      <td>3149.664934</td>\n",
       "      <td>17.8</td>\n",
       "      <td>2007</td>\n",
       "      <td>USA</td>\n",
       "      <td>Gasoline</td>\n",
       "      <td>Front-wheel drive</td>\n",
       "      <td>0.0</td>\n",
       "      <td>13.688217</td>\n",
       "    </tr>\n",
       "    <tr>\n",
       "      <th>2</th>\n",
       "      <td>170</td>\n",
       "      <td>NaN</td>\n",
       "      <td>78.0</td>\n",
       "      <td>3079.038997</td>\n",
       "      <td>15.1</td>\n",
       "      <td>2018</td>\n",
       "      <td>Europe</td>\n",
       "      <td>Gasoline</td>\n",
       "      <td>Front-wheel drive</td>\n",
       "      <td>0.0</td>\n",
       "      <td>14.246341</td>\n",
       "    </tr>\n",
       "    <tr>\n",
       "      <th>3</th>\n",
       "      <td>220</td>\n",
       "      <td>4.0</td>\n",
       "      <td>NaN</td>\n",
       "      <td>2542.392402</td>\n",
       "      <td>20.2</td>\n",
       "      <td>2009</td>\n",
       "      <td>USA</td>\n",
       "      <td>Diesel</td>\n",
       "      <td>All-wheel drive</td>\n",
       "      <td>2.0</td>\n",
       "      <td>16.912736</td>\n",
       "    </tr>\n",
       "    <tr>\n",
       "      <th>4</th>\n",
       "      <td>210</td>\n",
       "      <td>1.0</td>\n",
       "      <td>140.0</td>\n",
       "      <td>3460.870990</td>\n",
       "      <td>14.4</td>\n",
       "      <td>2009</td>\n",
       "      <td>Europe</td>\n",
       "      <td>Gasoline</td>\n",
       "      <td>All-wheel drive</td>\n",
       "      <td>2.0</td>\n",
       "      <td>12.488369</td>\n",
       "    </tr>\n",
       "  </tbody>\n",
       "</table>\n",
       "</div>"
      ],
      "text/plain": [
       "   engine_displacement  num_cylinders  horsepower  vehicle_weight  \\\n",
       "0                  170            3.0       159.0     3413.433759   \n",
       "1                  130            5.0        97.0     3149.664934   \n",
       "2                  170            NaN        78.0     3079.038997   \n",
       "3                  220            4.0         NaN     2542.392402   \n",
       "4                  210            1.0       140.0     3460.870990   \n",
       "\n",
       "   acceleration  model_year  origin fuel_type         drivetrain  num_doors  \\\n",
       "0          17.7        2003  Europe  Gasoline    All-wheel drive        0.0   \n",
       "1          17.8        2007     USA  Gasoline  Front-wheel drive        0.0   \n",
       "2          15.1        2018  Europe  Gasoline  Front-wheel drive        0.0   \n",
       "3          20.2        2009     USA    Diesel    All-wheel drive        2.0   \n",
       "4          14.4        2009  Europe  Gasoline    All-wheel drive        2.0   \n",
       "\n",
       "   fuel_efficiency_mpg  \n",
       "0            13.231729  \n",
       "1            13.688217  \n",
       "2            14.246341  \n",
       "3            16.912736  \n",
       "4            12.488369  "
      ]
     },
     "execution_count": 214,
     "metadata": {},
     "output_type": "execute_result"
    }
   ],
   "source": [
    "df.head()"
   ]
  },
  {
   "cell_type": "code",
   "execution_count": 215,
   "id": "b2cec1e7-9860-444e-8c04-ba23163725c6",
   "metadata": {},
   "outputs": [],
   "source": [
    "df_base = df[['engine_displacement', 'horsepower', 'vehicle_weight', 'model_year', 'fuel_efficiency_mpg']]"
   ]
  },
  {
   "cell_type": "code",
   "execution_count": 216,
   "id": "ad162ea9-30b0-4045-b581-f22ec285f7bd",
   "metadata": {},
   "outputs": [
    {
     "data": {
      "text/plain": [
       "<Axes: xlabel='fuel_efficiency_mpg', ylabel='Count'>"
      ]
     },
     "execution_count": 216,
     "metadata": {},
     "output_type": "execute_result"
    },
    {
     "data": {
      "image/png": "[encoded data removed]",
      "text/plain": [
       "<Figure size 640x480 with 1 Axes>"
      ]
     },
     "metadata": {},
     "output_type": "display_data"
    }
   ],
   "source": [
    "sns.histplot(df_base.fuel_efficiency_mpg, bins = 50)\n",
    "# Has Normal Distribution"
   ]
  },
  {
   "cell_type": "code",
   "execution_count": 217,
   "id": "77f7a350-5fbc-47e2-8b02-543a8580ea1f",
   "metadata": {},
   "outputs": [
    {
     "data": {
      "text/plain": [
       "engine_displacement      0\n",
       "horsepower             708\n",
       "vehicle_weight           0\n",
       "model_year               0\n",
       "fuel_efficiency_mpg      0\n",
       "dtype: int64"
      ]
     },
     "execution_count": 217,
     "metadata": {},
     "output_type": "execute_result"
    }
   ],
   "source": [
    "# Column with missing values\n",
    "df_base.isnull().sum()"
   ]
  },
  {
   "cell_type": "code",
   "execution_count": 218,
   "id": "e69b34f8-acad-4f0c-bc42-17e12c590387",
   "metadata": {},
   "outputs": [
    {
     "data": {
      "text/plain": [
       "np.float64(149.0)"
      ]
     },
     "execution_count": 218,
     "metadata": {},
     "output_type": "execute_result"
    }
   ],
   "source": [
    "# median (50% percentile) for variable 'horsepower'\n",
    "\n",
    "df_base['horsepower'].median()"
   ]
  },
  {
   "cell_type": "code",
   "execution_count": 253,
   "id": "09b54612-6950-449c-852e-3a3191a35e25",
   "metadata": {},
   "outputs": [],
   "source": [
    "# whihc has better rmse , fill missing values of horsepower with 0 or mean \n",
    "\n",
    "n = len(df_base)\n",
    "n_val = int(n * 0.2)\n",
    "n_test = int(n * 0.2)\n",
    "n_train = n - n_val - n_test"
   ]
  },
  {
   "cell_type": "code",
   "execution_count": 254,
   "id": "3a00e290-04ff-41fc-8e41-f61387ca9ee2",
   "metadata": {},
   "outputs": [
    {
     "data": {
      "text/plain": [
       "(5824, 1940, 1940)"
      ]
     },
     "execution_count": 254,
     "metadata": {},
     "output_type": "execute_result"
    }
   ],
   "source": [
    "n_train , n_val, n_test"
   ]
  },
  {
   "cell_type": "code",
   "execution_count": 255,
   "id": "78121e04-ead9-4507-b991-c3745e671905",
   "metadata": {},
   "outputs": [],
   "source": [
    "idx = np.arange(n)"
   ]
  },
  {
   "cell_type": "code",
   "execution_count": 256,
   "id": "4cb71fe9-e2d7-45f2-8611-8bb84aae08d4",
   "metadata": {},
   "outputs": [],
   "source": [
    "np.random.seed(42)\n",
    "np.random.shuffle(idx)"
   ]
  },
  {
   "cell_type": "code",
   "execution_count": 257,
   "id": "3949c43a-663b-4807-b57c-4efb29e61b49",
   "metadata": {},
   "outputs": [
    {
     "data": {
      "text/plain": [
       "array([ 483, 7506, 8795, ..., 6735, 2052, 1776], shape=(5824,))"
      ]
     },
     "execution_count": 257,
     "metadata": {},
     "output_type": "execute_result"
    }
   ],
   "source": [
    "idx[:n_train]"
   ]
  },
  {
   "cell_type": "code",
   "execution_count": 264,
   "id": "dc1ae362-fbe6-46bc-9aab-5d5296ecaa1c",
   "metadata": {},
   "outputs": [],
   "source": [
    "df_train = df_base.iloc[idx[:n_train]]\n",
    "df_val = df_base.iloc[idx[n_train:n_train+n_val]]\n",
    "df_test = df_base.iloc[idx[n_train+n_val:]]"
   ]
  },
  {
   "cell_type": "code",
   "execution_count": 259,
   "id": "1e428ce1-f164-43de-9827-dfe10413beac",
   "metadata": {},
   "outputs": [
    {
     "data": {
      "text/html": [
       "<div>\n",
       "<style scoped>\n",
       "    .dataframe tbody tr th:only-of-type {\n",
       "        vertical-align: middle;\n",
       "    }\n",
       "\n",
       "    .dataframe tbody tr th {\n",
       "        vertical-align: top;\n",
       "    }\n",
       "\n",
       "    .dataframe thead th {\n",
       "        text-align: right;\n",
       "    }\n",
       "</style>\n",
       "<table border=\"1\" class=\"dataframe\">\n",
       "  <thead>\n",
       "    <tr style=\"text-align: right;\">\n",
       "      <th></th>\n",
       "      <th>engine_displacement</th>\n",
       "      <th>horsepower</th>\n",
       "      <th>vehicle_weight</th>\n",
       "      <th>model_year</th>\n",
       "      <th>fuel_efficiency_mpg</th>\n",
       "    </tr>\n",
       "  </thead>\n",
       "  <tbody>\n",
       "    <tr>\n",
       "      <th>483</th>\n",
       "      <td>220</td>\n",
       "      <td>144.0</td>\n",
       "      <td>2535.887591</td>\n",
       "      <td>2009</td>\n",
       "      <td>16.642943</td>\n",
       "    </tr>\n",
       "    <tr>\n",
       "      <th>7506</th>\n",
       "      <td>160</td>\n",
       "      <td>141.0</td>\n",
       "      <td>2741.170484</td>\n",
       "      <td>2019</td>\n",
       "      <td>16.298377</td>\n",
       "    </tr>\n",
       "    <tr>\n",
       "      <th>8795</th>\n",
       "      <td>230</td>\n",
       "      <td>155.0</td>\n",
       "      <td>2471.880237</td>\n",
       "      <td>2017</td>\n",
       "      <td>18.591822</td>\n",
       "    </tr>\n",
       "    <tr>\n",
       "      <th>1688</th>\n",
       "      <td>150</td>\n",
       "      <td>206.0</td>\n",
       "      <td>3748.164469</td>\n",
       "      <td>2015</td>\n",
       "      <td>11.818843</td>\n",
       "    </tr>\n",
       "    <tr>\n",
       "      <th>6217</th>\n",
       "      <td>300</td>\n",
       "      <td>111.0</td>\n",
       "      <td>2135.716359</td>\n",
       "      <td>2006</td>\n",
       "      <td>19.402209</td>\n",
       "    </tr>\n",
       "  </tbody>\n",
       "</table>\n",
       "</div>"
      ],
      "text/plain": [
       "      engine_displacement  horsepower  vehicle_weight  model_year  \\\n",
       "483                   220       144.0     2535.887591        2009   \n",
       "7506                  160       141.0     2741.170484        2019   \n",
       "8795                  230       155.0     2471.880237        2017   \n",
       "1688                  150       206.0     3748.164469        2015   \n",
       "6217                  300       111.0     2135.716359        2006   \n",
       "\n",
       "      fuel_efficiency_mpg  \n",
       "483             16.642943  \n",
       "7506            16.298377  \n",
       "8795            18.591822  \n",
       "1688            11.818843  \n",
       "6217            19.402209  "
      ]
     },
     "execution_count": 259,
     "metadata": {},
     "output_type": "execute_result"
    }
   ],
   "source": [
    "df_train.head()"
   ]
  },
  {
   "cell_type": "code",
   "execution_count": 265,
   "id": "293cd675-a54e-4af6-ac61-e110667344b7",
   "metadata": {},
   "outputs": [],
   "source": [
    "df_train = df_train.reset_index(drop=True)\n",
    "df_val = df_val.reset_index(drop=True)\n",
    "df_test = df_val.reset_index(drop=True)"
   ]
  },
  {
   "cell_type": "code",
   "execution_count": 266,
   "id": "fa0f76e2-5cb1-4700-83e1-36f6533bacc9",
   "metadata": {},
   "outputs": [
    {
     "data": {
      "text/html": [
       "<div>\n",
       "<style scoped>\n",
       "    .dataframe tbody tr th:only-of-type {\n",
       "        vertical-align: middle;\n",
       "    }\n",
       "\n",
       "    .dataframe tbody tr th {\n",
       "        vertical-align: top;\n",
       "    }\n",
       "\n",
       "    .dataframe thead th {\n",
       "        text-align: right;\n",
       "    }\n",
       "</style>\n",
       "<table border=\"1\" class=\"dataframe\">\n",
       "  <thead>\n",
       "    <tr style=\"text-align: right;\">\n",
       "      <th></th>\n",
       "      <th>engine_displacement</th>\n",
       "      <th>horsepower</th>\n",
       "      <th>vehicle_weight</th>\n",
       "      <th>model_year</th>\n",
       "      <th>fuel_efficiency_mpg</th>\n",
       "    </tr>\n",
       "  </thead>\n",
       "  <tbody>\n",
       "    <tr>\n",
       "      <th>0</th>\n",
       "      <td>220</td>\n",
       "      <td>144.0</td>\n",
       "      <td>2535.887591</td>\n",
       "      <td>2009</td>\n",
       "      <td>16.642943</td>\n",
       "    </tr>\n",
       "    <tr>\n",
       "      <th>1</th>\n",
       "      <td>160</td>\n",
       "      <td>141.0</td>\n",
       "      <td>2741.170484</td>\n",
       "      <td>2019</td>\n",
       "      <td>16.298377</td>\n",
       "    </tr>\n",
       "    <tr>\n",
       "      <th>2</th>\n",
       "      <td>230</td>\n",
       "      <td>155.0</td>\n",
       "      <td>2471.880237</td>\n",
       "      <td>2017</td>\n",
       "      <td>18.591822</td>\n",
       "    </tr>\n",
       "    <tr>\n",
       "      <th>3</th>\n",
       "      <td>150</td>\n",
       "      <td>206.0</td>\n",
       "      <td>3748.164469</td>\n",
       "      <td>2015</td>\n",
       "      <td>11.818843</td>\n",
       "    </tr>\n",
       "    <tr>\n",
       "      <th>4</th>\n",
       "      <td>300</td>\n",
       "      <td>111.0</td>\n",
       "      <td>2135.716359</td>\n",
       "      <td>2006</td>\n",
       "      <td>19.402209</td>\n",
       "    </tr>\n",
       "  </tbody>\n",
       "</table>\n",
       "</div>"
      ],
      "text/plain": [
       "   engine_displacement  horsepower  vehicle_weight  model_year  \\\n",
       "0                  220       144.0     2535.887591        2009   \n",
       "1                  160       141.0     2741.170484        2019   \n",
       "2                  230       155.0     2471.880237        2017   \n",
       "3                  150       206.0     3748.164469        2015   \n",
       "4                  300       111.0     2135.716359        2006   \n",
       "\n",
       "   fuel_efficiency_mpg  \n",
       "0            16.642943  \n",
       "1            16.298377  \n",
       "2            18.591822  \n",
       "3            11.818843  \n",
       "4            19.402209  "
      ]
     },
     "execution_count": 266,
     "metadata": {},
     "output_type": "execute_result"
    }
   ],
   "source": [
    "df_train.head()"
   ]
  },
  {
   "cell_type": "code",
   "execution_count": 267,
   "id": "e2285c5a-9b8b-4104-93c6-70bb04ec4944",
   "metadata": {},
   "outputs": [],
   "source": [
    "y_train = np.array(df_train.fuel_efficiency_mpg.values)\n",
    "y_val = np.array(df_val.fuel_efficiency_mpg.values)\n",
    "y_test = np.array(df_test.fuel_efficiency_mpg.values)"
   ]
  },
  {
   "cell_type": "code",
   "execution_count": 268,
   "id": "15e02aec-9965-4895-ac0d-adce47c838d2",
   "metadata": {},
   "outputs": [],
   "source": [
    "del df_train['fuel_efficiency_mpg']\n",
    "del df_val['fuel_efficiency_mpg']\n",
    "del df_test['fuel_efficiency_mpg']\n"
   ]
  },
  {
   "cell_type": "code",
   "execution_count": 269,
   "id": "f9d9ba92-a105-44f1-b842-941b6e7cb628",
   "metadata": {},
   "outputs": [
    {
     "data": {
      "text/plain": [
       "np.float64(149.54476367006487)"
      ]
     },
     "execution_count": 269,
     "metadata": {},
     "output_type": "execute_result"
    }
   ],
   "source": [
    "\n",
    "\n",
    "mean_hp = df_train['horsepower'].mean()\n",
    "mean_hp"
   ]
  },
  {
   "cell_type": "code",
   "execution_count": 287,
   "id": "bd2c21df-e253-48eb-aa6f-56bef210b4bb",
   "metadata": {},
   "outputs": [],
   "source": [
    "\n",
    "\n",
    "def prepare_x_zero(df):\n",
    "    df = df.copy()\n",
    "    df['horsepower'] = df['horsepower'].fillna(0)\n",
    "    X = df.values\n",
    "    return X"
   ]
  },
  {
   "cell_type": "code",
   "execution_count": 288,
   "id": "9c4cd468-7c1d-4aa8-b84f-861394647a15",
   "metadata": {},
   "outputs": [],
   "source": [
    "def prepare_x_mean(df, mean_hp):\n",
    "    df = df.copy()\n",
    "    df['horsepower'] = df['horsepower'].fillna(mean_hp) \n",
    "    X = df.values\n",
    "    return X"
   ]
  },
  {
   "cell_type": "code",
   "execution_count": 289,
   "id": "473eb69d-5ac0-4085-82f9-371c59a2ca30",
   "metadata": {},
   "outputs": [],
   "source": [
    "def train_linear_regression(X, y):\n",
    "    ones = np.ones(X.shape[0])\n",
    "    X = np.column_stack([ones, X])\n",
    "    XTX = X.T.dot(X)\n",
    "    XTX_inv = np.linalg.inv(XTX)\n",
    "    w_full = XTX_inv.dot(X.T).dot(y)\n",
    "    return w_full[0], w_full[1:]"
   ]
  },
  {
   "cell_type": "code",
   "execution_count": 290,
   "id": "8b216c01-1adf-4bc5-a6c6-70902ca5724e",
   "metadata": {},
   "outputs": [],
   "source": [
    "def rmse(y_val, y_pred):\n",
    "    se= (y_val-y_pred)**2\n",
    "    mse = se.mean()\n",
    "    return np.sqrt(mse)\n",
    "    "
   ]
  },
  {
   "cell_type": "code",
   "execution_count": 275,
   "id": "4bfaffc1-66ab-405e-91bb-07b49075bed7",
   "metadata": {},
   "outputs": [
    {
     "data": {
      "text/html": [
       "<div>\n",
       "<style scoped>\n",
       "    .dataframe tbody tr th:only-of-type {\n",
       "        vertical-align: middle;\n",
       "    }\n",
       "\n",
       "    .dataframe tbody tr th {\n",
       "        vertical-align: top;\n",
       "    }\n",
       "\n",
       "    .dataframe thead th {\n",
       "        text-align: right;\n",
       "    }\n",
       "</style>\n",
       "<table border=\"1\" class=\"dataframe\">\n",
       "  <thead>\n",
       "    <tr style=\"text-align: right;\">\n",
       "      <th></th>\n",
       "      <th>engine_displacement</th>\n",
       "      <th>horsepower</th>\n",
       "      <th>vehicle_weight</th>\n",
       "      <th>model_year</th>\n",
       "    </tr>\n",
       "  </thead>\n",
       "  <tbody>\n",
       "    <tr>\n",
       "      <th>0</th>\n",
       "      <td>220</td>\n",
       "      <td>144.0</td>\n",
       "      <td>2535.887591</td>\n",
       "      <td>2009</td>\n",
       "    </tr>\n",
       "    <tr>\n",
       "      <th>1</th>\n",
       "      <td>160</td>\n",
       "      <td>141.0</td>\n",
       "      <td>2741.170484</td>\n",
       "      <td>2019</td>\n",
       "    </tr>\n",
       "    <tr>\n",
       "      <th>2</th>\n",
       "      <td>230</td>\n",
       "      <td>155.0</td>\n",
       "      <td>2471.880237</td>\n",
       "      <td>2017</td>\n",
       "    </tr>\n",
       "    <tr>\n",
       "      <th>3</th>\n",
       "      <td>150</td>\n",
       "      <td>206.0</td>\n",
       "      <td>3748.164469</td>\n",
       "      <td>2015</td>\n",
       "    </tr>\n",
       "    <tr>\n",
       "      <th>4</th>\n",
       "      <td>300</td>\n",
       "      <td>111.0</td>\n",
       "      <td>2135.716359</td>\n",
       "      <td>2006</td>\n",
       "    </tr>\n",
       "  </tbody>\n",
       "</table>\n",
       "</div>"
      ],
      "text/plain": [
       "   engine_displacement  horsepower  vehicle_weight  model_year\n",
       "0                  220       144.0     2535.887591        2009\n",
       "1                  160       141.0     2741.170484        2019\n",
       "2                  230       155.0     2471.880237        2017\n",
       "3                  150       206.0     3748.164469        2015\n",
       "4                  300       111.0     2135.716359        2006"
      ]
     },
     "execution_count": 275,
     "metadata": {},
     "output_type": "execute_result"
    }
   ],
   "source": [
    "df_train.head()"
   ]
  },
  {
   "cell_type": "code",
   "execution_count": 291,
   "id": "28937746-7732-4924-8e4c-78425712da14",
   "metadata": {},
   "outputs": [],
   "source": [
    "x_train = prepare_x_zero(df_train)"
   ]
  },
  {
   "cell_type": "code",
   "execution_count": 292,
   "id": "0308390d-03c9-4f9a-9722-0367d0c1ba73",
   "metadata": {},
   "outputs": [],
   "source": [
    "w0, w= train_linear_regression(x_train, y_train)"
   ]
  },
  {
   "cell_type": "code",
   "execution_count": 293,
   "id": "c12a0036-9f69-4547-a1d4-63de03868967",
   "metadata": {},
   "outputs": [],
   "source": [
    "x_val = prepare_x_zero(df_val)"
   ]
  },
  {
   "cell_type": "code",
   "execution_count": 294,
   "id": "01bcdc72-8ec8-4711-b59c-aaf443654892",
   "metadata": {},
   "outputs": [],
   "source": [
    "y_pred = w0 + x_val.dot(w)"
   ]
  },
  {
   "cell_type": "code",
   "execution_count": 295,
   "id": "f4ee037d-772d-4dd1-b036-6feb497133c5",
   "metadata": {},
   "outputs": [
    {
     "data": {
      "text/plain": [
       "np.float64(0.52)"
      ]
     },
     "execution_count": 295,
     "metadata": {},
     "output_type": "execute_result"
    }
   ],
   "source": [
    "rmse_case1_zero = round(rmse(y_val,y_pred),2)\n",
    "rmse_case1_zero"
   ]
  },
  {
   "cell_type": "code",
   "execution_count": 296,
   "id": "bec4cd0f-baa7-40c9-a6f0-f0d2d19257d3",
   "metadata": {},
   "outputs": [],
   "source": [
    "x_train = prepare_x_mean(df_train, mean_hp)"
   ]
  },
  {
   "cell_type": "code",
   "execution_count": 297,
   "id": "d9348b48-216a-4710-b850-fe7cf59499d8",
   "metadata": {},
   "outputs": [],
   "source": [
    "w0, w= train_linear_regression(x_train, y_train)"
   ]
  },
  {
   "cell_type": "code",
   "execution_count": 298,
   "id": "c6bd6841-ddb5-47aa-952b-d314bf0a1d27",
   "metadata": {},
   "outputs": [],
   "source": [
    "x_val = prepare_x_mean(df_val , mean_hp)"
   ]
  },
  {
   "cell_type": "code",
   "execution_count": 299,
   "id": "a52b3893-b470-4845-8009-17af128d8e04",
   "metadata": {},
   "outputs": [],
   "source": [
    "y_pred = w0 + x_val.dot(w)"
   ]
  },
  {
   "cell_type": "code",
   "execution_count": 300,
   "id": "68c7879c-10a7-487f-879e-2033e489a946",
   "metadata": {},
   "outputs": [
    {
     "data": {
      "text/plain": [
       "np.float64(0.46)"
      ]
     },
     "execution_count": 300,
     "metadata": {},
     "output_type": "execute_result"
    }
   ],
   "source": [
    "rmse_case2_mean = round(rmse(y_val,y_pred),2)\n",
    "rmse_case2_mean"
   ]
  },
  {
   "cell_type": "code",
   "execution_count": 303,
   "id": "b9e9065d-c1e9-4267-bcbc-141ae8c40167",
   "metadata": {},
   "outputs": [],
   "source": [
    "# Regularized Linear regression\n",
    "\n",
    "def train_linear_regression_reg(X, y, r):\n",
    "    ones = np.ones(X.shape[0])\n",
    "    X = np.column_stack([ones, X])\n",
    "    XTX = X.T.dot(X)\n",
    "    XTX = XTX + r * np.eye(XTX.shape[0])\n",
    "    XTX_inv = np.linalg.inv(XTX)\n",
    "    w_full = XTX_inv.dot(X.T).dot(y)\n",
    "    return w_full[0], w_full[1:]"
   ]
  },
  {
   "cell_type": "code",
   "execution_count": 315,
   "id": "cad354da-81f8-47c5-af88-0f839869830e",
   "metadata": {},
   "outputs": [
    {
     "name": "stdout",
     "output_type": "stream",
     "text": [
      "0 0.52\n",
      "0.01 0.52\n",
      "0.1 0.52\n",
      "1 0.52\n",
      "5 0.53\n",
      "10 0.53\n",
      "100 0.53\n"
     ]
    }
   ],
   "source": [
    "# 0.01 is the best RMSE\n",
    "\n",
    "x_train = prepare_x_zero(df_train)\n",
    "x_val = prepare_x_zero(df_val)\n",
    "for r in [0, 0.01, 0.1, 1, 5, 10, 100]:\n",
    "    w0, w = train_linear_regression_reg(x_train, y_train, r)\n",
    "    y_pred = w0 + x_val.dot(w)\n",
    "    score = round(rmse(y_val, y_pred), 2)\n",
    "    print(r, score)\n",
    "    \n",
    "   \n",
    "      "
   ]
  },
  {
   "cell_type": "code",
   "execution_count": 320,
   "id": "d870f045-71ce-4c2e-9139-d7a5d04f5e43",
   "metadata": {},
   "outputs": [],
   "source": [
    "# Seed selection influence on score\n",
    "\n",
    "scores = []\n",
    "for n in [0, 1, 2, 3, 4, 5, 6, 7, 8, 9]:\n",
    "    np.random.seed(n)\n",
    "    np.random.shuffle(idx)\n",
    "    df_train = df_base.iloc[idx[:n_train]]\n",
    "    df_val = df_base.iloc[idx[n_train:n_train+n_val]]\n",
    "    df_test = df_base.iloc[idx[n_train+n_val:]]\n",
    "\n",
    "    y_train = np.array(df_train.fuel_efficiency_mpg.values)\n",
    "    y_val = np.array(df_val.fuel_efficiency_mpg.values)\n",
    "    y_test = np.array(df_test.fuel_efficiency_mpg.values)\n",
    "\n",
    "    del df_train['fuel_efficiency_mpg']\n",
    "    del df_val['fuel_efficiency_mpg']\n",
    "    del df_test['fuel_efficiency_mpg']\n",
    "\n",
    "    x_train = prepare_x_zero(df_train)\n",
    "    x_val = prepare_x_zero(df_val)\n",
    "    w0, w= train_linear_regression(x_train, y_train)\n",
    "    y_pred = w0 + x_val.dot(w)\n",
    "    scores.append(rmse(y_val, y_pred))\n",
    "\n",
    "    "
   ]
  },
  {
   "cell_type": "code",
   "execution_count": 306,
   "id": "233131e1-e51c-43d6-a58a-5412e1724a1f",
   "metadata": {},
   "outputs": [
    {
     "data": {
      "text/plain": [
       "[np.float64(0.5155264762416023),\n",
       " np.float64(0.515825297896196),\n",
       " np.float64(0.5128324892961215),\n",
       " np.float64(0.5084930311163809),\n",
       " np.float64(0.5094209022094792),\n",
       " np.float64(0.5301284975741177),\n",
       " np.float64(0.5142267107598534),\n",
       " np.float64(0.5124852802269689),\n",
       " np.float64(0.5082885728759076),\n",
       " np.float64(0.5053325213822996)]"
      ]
     },
     "execution_count": 306,
     "metadata": {},
     "output_type": "execute_result"
    }
   ],
   "source": [
    "scores"
   ]
  },
  {
   "cell_type": "code",
   "execution_count": 311,
   "id": "bb9798ca-0cf6-4250-b793-3a63087476b3",
   "metadata": {},
   "outputs": [],
   "source": [
    "scores = np.array(scores)"
   ]
  },
  {
   "cell_type": "code",
   "execution_count": 321,
   "id": "2703c965-11db-4448-83ec-4de82c7a367a",
   "metadata": {},
   "outputs": [
    {
     "data": {
      "text/plain": [
       "np.float64(0.007)"
      ]
     },
     "execution_count": 321,
     "metadata": {},
     "output_type": "execute_result"
    }
   ],
   "source": [
    "round(np.std(scores), 3)"
   ]
  },
  {
   "cell_type": "code",
   "execution_count": 319,
   "id": "c47c7943-2b51-4cf7-b118-9c51305b277d",
   "metadata": {},
   "outputs": [
    {
     "name": "stdout",
     "output_type": "stream",
     "text": [
      "0.517\n"
     ]
    }
   ],
   "source": [
    "# Combine train and Validation data set and train the model\n",
    "\n",
    "np.random.seed(9)\n",
    "np.random.shuffle(idx)\n",
    "df_train = df_base.iloc[idx[:n_train]]\n",
    "df_val = df_base.iloc[idx[n_train:n_train+n_val]]\n",
    "df_test = df_base.iloc[idx[n_train+n_val:]]\n",
    "\n",
    "df_full_train = pd.concat([df_train, df_val])\n",
    "\n",
    "\n",
    "df_full_train = df_full_train.reset_index(drop=True)\n",
    "df_test = df_test.reset_index(drop=True)\n",
    "\n",
    "y_train = np.array(df_full_train.fuel_efficiency_mpg.values)\n",
    "y_test = np.array(df_test.fuel_efficiency_mpg.values)\n",
    "\n",
    "del df_full_train['fuel_efficiency_mpg']\n",
    "del df_test['fuel_efficiency_mpg']\n",
    "\n",
    "x_train = prepare_x_zero(df_full_train)\n",
    "x_test = prepare_x_zero(df_test)\n",
    "\n",
    "w0, w = train_linear_regression_reg(x_train, y_train, 0.001)\n",
    "y_pred = w0 + x_test.dot(w)\n",
    "print(round(rmse(y_test, y_pred), 3))"
   ]
  },
  {
   "cell_type": "code",
   "execution_count": null,
   "id": "d553f8cf-6b87-4f62-9f50-f394927a1a9f",
   "metadata": {},
   "outputs": [],
   "source": []
  }
 ],
 "metadata": {
  "kernelspec": {
   "display_name": "Python 3 (ipykernel)",
   "language": "python",
   "name": "python3"
  },
  "language_info": {
   "codemirror_mode": {
    "name": "ipython",
    "version": 3
   },
   "file_extension": ".py",
   "mimetype": "text/x-python",
   "name": "python",
   "nbconvert_exporter": "python",
   "pygments_lexer": "ipython3",
   "version": "3.12.1"
  }
 },
 "nbformat": 4,
 "nbformat_minor": 5
}
