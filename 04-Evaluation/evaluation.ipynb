{
 "cells": [
  {
   "cell_type": "code",
   "execution_count": 196,
   "id": "e2812884-6aa3-4a36-b523-30a33cd9509b",
   "metadata": {},
   "outputs": [],
   "source": [
    "import pandas as pd"
   ]
  },
  {
   "cell_type": "code",
   "execution_count": 197,
   "id": "6dd3ff26-f0c7-40bf-ad54-48264bc3dfa6",
   "metadata": {},
   "outputs": [],
   "source": [
    "df = pd.read_csv(\"https://raw.githubusercontent.com/alexeygrigorev/datasets/master/course_lead_scoring.csv\")"
   ]
  },
  {
   "cell_type": "code",
   "execution_count": 198,
   "id": "52ce7f8f-7b60-422f-a9c5-10e7b9a1dc4e",
   "metadata": {},
   "outputs": [
    {
     "data": {
      "text/html": [
       "<div>\n",
       "<style scoped>\n",
       "    .dataframe tbody tr th:only-of-type {\n",
       "        vertical-align: middle;\n",
       "    }\n",
       "\n",
       "    .dataframe tbody tr th {\n",
       "        vertical-align: top;\n",
       "    }\n",
       "\n",
       "    .dataframe thead th {\n",
       "        text-align: right;\n",
       "    }\n",
       "</style>\n",
       "<table border=\"1\" class=\"dataframe\">\n",
       "  <thead>\n",
       "    <tr style=\"text-align: right;\">\n",
       "      <th></th>\n",
       "      <th>lead_source</th>\n",
       "      <th>industry</th>\n",
       "      <th>number_of_courses_viewed</th>\n",
       "      <th>annual_income</th>\n",
       "      <th>employment_status</th>\n",
       "      <th>location</th>\n",
       "      <th>interaction_count</th>\n",
       "      <th>lead_score</th>\n",
       "      <th>converted</th>\n",
       "    </tr>\n",
       "  </thead>\n",
       "  <tbody>\n",
       "    <tr>\n",
       "      <th>0</th>\n",
       "      <td>paid_ads</td>\n",
       "      <td>NaN</td>\n",
       "      <td>1</td>\n",
       "      <td>79450.0</td>\n",
       "      <td>unemployed</td>\n",
       "      <td>south_america</td>\n",
       "      <td>4</td>\n",
       "      <td>0.94</td>\n",
       "      <td>1</td>\n",
       "    </tr>\n",
       "    <tr>\n",
       "      <th>1</th>\n",
       "      <td>social_media</td>\n",
       "      <td>retail</td>\n",
       "      <td>1</td>\n",
       "      <td>46992.0</td>\n",
       "      <td>employed</td>\n",
       "      <td>south_america</td>\n",
       "      <td>1</td>\n",
       "      <td>0.80</td>\n",
       "      <td>0</td>\n",
       "    </tr>\n",
       "    <tr>\n",
       "      <th>2</th>\n",
       "      <td>events</td>\n",
       "      <td>healthcare</td>\n",
       "      <td>5</td>\n",
       "      <td>78796.0</td>\n",
       "      <td>unemployed</td>\n",
       "      <td>australia</td>\n",
       "      <td>3</td>\n",
       "      <td>0.69</td>\n",
       "      <td>1</td>\n",
       "    </tr>\n",
       "    <tr>\n",
       "      <th>3</th>\n",
       "      <td>paid_ads</td>\n",
       "      <td>retail</td>\n",
       "      <td>2</td>\n",
       "      <td>83843.0</td>\n",
       "      <td>NaN</td>\n",
       "      <td>australia</td>\n",
       "      <td>1</td>\n",
       "      <td>0.87</td>\n",
       "      <td>0</td>\n",
       "    </tr>\n",
       "    <tr>\n",
       "      <th>4</th>\n",
       "      <td>referral</td>\n",
       "      <td>education</td>\n",
       "      <td>3</td>\n",
       "      <td>85012.0</td>\n",
       "      <td>self_employed</td>\n",
       "      <td>europe</td>\n",
       "      <td>3</td>\n",
       "      <td>0.62</td>\n",
       "      <td>1</td>\n",
       "    </tr>\n",
       "  </tbody>\n",
       "</table>\n",
       "</div>"
      ],
      "text/plain": [
       "    lead_source    industry  number_of_courses_viewed  annual_income  \\\n",
       "0      paid_ads         NaN                         1        79450.0   \n",
       "1  social_media      retail                         1        46992.0   \n",
       "2        events  healthcare                         5        78796.0   \n",
       "3      paid_ads      retail                         2        83843.0   \n",
       "4      referral   education                         3        85012.0   \n",
       "\n",
       "  employment_status       location  interaction_count  lead_score  converted  \n",
       "0        unemployed  south_america                  4        0.94          1  \n",
       "1          employed  south_america                  1        0.80          0  \n",
       "2        unemployed      australia                  3        0.69          1  \n",
       "3               NaN      australia                  1        0.87          0  \n",
       "4     self_employed         europe                  3        0.62          1  "
      ]
     },
     "execution_count": 198,
     "metadata": {},
     "output_type": "execute_result"
    }
   ],
   "source": [
    "df.head()"
   ]
  },
  {
   "cell_type": "code",
   "execution_count": 199,
   "id": "06bcd762-2149-4d36-a0f8-9a1897c82630",
   "metadata": {},
   "outputs": [
    {
     "data": {
      "text/plain": [
       "lead_source                 128\n",
       "industry                    134\n",
       "number_of_courses_viewed      0\n",
       "annual_income               181\n",
       "employment_status           100\n",
       "location                     63\n",
       "interaction_count             0\n",
       "lead_score                    0\n",
       "converted                     0\n",
       "dtype: int64"
      ]
     },
     "execution_count": 199,
     "metadata": {},
     "output_type": "execute_result"
    }
   ],
   "source": [
    "# Data Prpearation\n",
    "df.isnull().sum()"
   ]
  },
  {
   "cell_type": "code",
   "execution_count": 200,
   "id": "3438c984-87e3-4c90-9553-78cfb7d543e9",
   "metadata": {},
   "outputs": [],
   "source": [
    "cat = ['lead_source', 'industry', 'employment_status', 'location']\n",
    "\n",
    "num = ['number_of_courses_viewed', 'annual_income', 'interaction_count',\n",
    "       'lead_score', 'converted']"
   ]
  },
  {
   "cell_type": "code",
   "execution_count": 201,
   "id": "9677df24-55be-470f-a629-05895c144cc8",
   "metadata": {},
   "outputs": [
    {
     "data": {
      "text/plain": [
       "lead_source                 0\n",
       "industry                    0\n",
       "number_of_courses_viewed    0\n",
       "annual_income               0\n",
       "employment_status           0\n",
       "location                    0\n",
       "interaction_count           0\n",
       "lead_score                  0\n",
       "converted                   0\n",
       "dtype: int64"
      ]
     },
     "execution_count": 201,
     "metadata": {},
     "output_type": "execute_result"
    }
   ],
   "source": [
    "df[cat] = df[cat].fillna('NA')\n",
    "\n",
    "df[num] = df[num].fillna(0.0)\n",
    "\n",
    "df.isnull().sum()"
   ]
  },
  {
   "cell_type": "code",
   "execution_count": 202,
   "id": "2ca470e0-3b4c-42eb-b67f-50a87e2458ff",
   "metadata": {},
   "outputs": [
    {
     "data": {
      "text/plain": [
       "(876, 293, 293)"
      ]
     },
     "execution_count": 202,
     "metadata": {},
     "output_type": "execute_result"
    }
   ],
   "source": [
    "# Split data into train, validate and test using scikit learn\n",
    "\n",
    "from sklearn.model_selection import train_test_split\n",
    "df_full_train, df_test = train_test_split(df, test_size = 0.2, random_state =1)\n",
    "df_train, df_val = train_test_split(df_full_train, test_size = 0.25, random_state =1)\n",
    "len(df_train), len(df_val), len(df_test)"
   ]
  },
  {
   "cell_type": "code",
   "execution_count": 203,
   "id": "24940640-08a3-4794-b271-0e14c43504fc",
   "metadata": {},
   "outputs": [],
   "source": [
    "df_train = df_train.reset_index(drop = True)\n",
    "df_val = df_val.reset_index(drop = True)\n",
    "df_test = df_test.reset_index(drop = True)"
   ]
  },
  {
   "cell_type": "code",
   "execution_count": 204,
   "id": "f8afd2a3-61ec-4a18-a797-8b4da26d0f6a",
   "metadata": {},
   "outputs": [],
   "source": [
    "y_train = df_train.converted.values\n",
    "y_val = df_val.converted.values\n",
    "y_test = df_test.converted.values"
   ]
  },
  {
   "cell_type": "code",
   "execution_count": 205,
   "id": "8c411132-2a2d-4b10-b158-babc2cc34d69",
   "metadata": {},
   "outputs": [],
   "source": [
    "del df_train['converted']\n",
    "del df_val['converted']\n",
    "del df_test['converted']"
   ]
  },
  {
   "cell_type": "code",
   "execution_count": 206,
   "id": "f2a8f33e-7f97-4b08-b9c1-61fa505b67e7",
   "metadata": {},
   "outputs": [
    {
     "name": "stdout",
     "output_type": "stream",
     "text": [
      "Feature: number_of_courses_viewed, Initial AUC: 0.7636, Final AUC: 0.7636\n",
      "Feature: annual_income, Initial AUC: 0.5520, Final AUC: 0.5520\n",
      "Feature: interaction_count, Initial AUC: 0.7383, Final AUC: 0.7383\n",
      "Feature: lead_score, Initial AUC: 0.6145, Final AUC: 0.6145\n"
     ]
    }
   ],
   "source": [
    "# 1.)ROC AUC feature importance\n",
    "# For each numerical variable, use it as score (aka prediction) and compute the AUC with the y variable as ground truth.\n",
    "\n",
    "num_features = ['number_of_courses_viewed', 'annual_income', 'interaction_count',\n",
    "       'lead_score']\n",
    "from sklearn.metrics import roc_auc_score\n",
    "auc_scores = {}\n",
    "for col in num_features:\n",
    "    # 1. Use the numerical variable as score/prediction\n",
    "    y_pred = df_train[col]\n",
    "    auc = roc_auc_score(y_train, y_pred)\n",
    "\n",
    "    # 3. Check if AUC < 0.5 and invert if necessary\n",
    "    if auc < 0.5:\n",
    "        y_pred_inverted = -df_train[col] # Invert the score\n",
    "        final_auc = roc_auc_score(y_train, y_pred_inverted)\n",
    "    else:\n",
    "        final_auc = auc\n",
    "    auc_scores[col] = final_auc\n",
    "    print(f\"Feature: {col}, Initial AUC: {auc:.4f}, Final AUC: {final_auc:.4f}\")\n"
   ]
  },
  {
   "cell_type": "code",
   "execution_count": 207,
   "id": "0ce1ab11-c8d7-462d-9831-6d930439a1fd",
   "metadata": {},
   "outputs": [
    {
     "data": {
      "text/plain": [
       "'number_of_courses_viewed'"
      ]
     },
     "execution_count": 207,
     "metadata": {},
     "output_type": "execute_result"
    }
   ],
   "source": [
    "# 4. Find the variable with the highest final AUC\n",
    "highest_auc_feature = max(auc_scores, key=auc_scores.get)\n",
    "highest_auc_feature"
   ]
  },
  {
   "cell_type": "code",
   "execution_count": 208,
   "id": "4dc44b98-c440-4c9f-8a0b-7e6a2431b222",
   "metadata": {},
   "outputs": [],
   "source": [
    "#2.) Training the model and find AUC of Validation Data\n",
    "\n",
    "categorical = ['lead_source', 'industry', 'employment_status', 'location']\n",
    "\n",
    "numerical = ['number_of_courses_viewed', 'annual_income', 'interaction_count',\n",
    "       'lead_score']\n",
    "\n",
    "# one-hot encoding\n",
    "#Training Data\n",
    "from sklearn.feature_extraction import DictVectorizer\n",
    "dicts = df_train[categorical + numerical].to_dict(orient = 'records')\n",
    "dv = DictVectorizer(sparse = False)\n",
    "x_train = dv.fit_transform(dicts)\n",
    "\n",
    "#Logical regression\n",
    "from sklearn.linear_model import LogisticRegression\n",
    "\n",
    "model = LogisticRegression(solver='liblinear', C=1.0, max_iter=1000)\n",
    "model.fit(x_train, y_train)\n",
    "\n",
    "#Validation data \n",
    "dicts_val = df_val[categorical + numerical].to_dict(orient = 'records')\n",
    "x_val = dv.transform(dicts_val)\n",
    "y_pred = model.predict_proba(x_val)[:,1]\n",
    "\n",
    "# Compute AUC\n",
    "auc_val = roc_auc_score(y_val, y_pred)\n",
    "\n",
    "# Round the result to 3 digits\n",
    "auc_val_rounded = round(auc_val, 3)"
   ]
  },
  {
   "cell_type": "code",
   "execution_count": 243,
   "id": "50979756-b541-43b6-822f-dad74c9e582d",
   "metadata": {},
   "outputs": [
    {
     "data": {
      "text/plain": [
       "0.817"
      ]
     },
     "execution_count": 243,
     "metadata": {},
     "output_type": "execute_result"
    }
   ],
   "source": [
    "auc_val_rounded \n"
   ]
  },
  {
   "cell_type": "code",
   "execution_count": 210,
   "id": "1fd60615-facb-4db7-9280-ebb86a432c27",
   "metadata": {},
   "outputs": [
    {
     "name": "stderr",
     "output_type": "stream",
     "text": [
      "/home/codespace/.local/lib/python3.12/site-packages/sklearn/metrics/_classification.py:1706: UndefinedMetricWarning: Precision is ill-defined and being set to 0.0 in labels with no predicted samples. Use `zero_division` parameter to control this behavior.\n",
      "  _warn_prf(average, modifier, f\"{metric.capitalize()} is\", result.shape[0])\n",
      "/home/codespace/.local/lib/python3.12/site-packages/sklearn/metrics/_classification.py:1706: UndefinedMetricWarning: Precision is ill-defined and being set to 0.0 in labels with no predicted samples. Use `zero_division` parameter to control this behavior.\n",
      "  _warn_prf(average, modifier, f\"{metric.capitalize()} is\", result.shape[0])\n",
      "/home/codespace/.local/lib/python3.12/site-packages/sklearn/metrics/_classification.py:1706: UndefinedMetricWarning: Precision is ill-defined and being set to 0.0 in labels with no predicted samples. Use `zero_division` parameter to control this behavior.\n",
      "  _warn_prf(average, modifier, f\"{metric.capitalize()} is\", result.shape[0])\n",
      "/home/codespace/.local/lib/python3.12/site-packages/sklearn/metrics/_classification.py:1706: UndefinedMetricWarning: Precision is ill-defined and being set to 0.0 in labels with no predicted samples. Use `zero_division` parameter to control this behavior.\n",
      "  _warn_prf(average, modifier, f\"{metric.capitalize()} is\", result.shape[0])\n",
      "/home/codespace/.local/lib/python3.12/site-packages/sklearn/metrics/_classification.py:1706: UndefinedMetricWarning: Precision is ill-defined and being set to 0.0 in labels with no predicted samples. Use `zero_division` parameter to control this behavior.\n",
      "  _warn_prf(average, modifier, f\"{metric.capitalize()} is\", result.shape[0])\n",
      "/home/codespace/.local/lib/python3.12/site-packages/sklearn/metrics/_classification.py:1706: UndefinedMetricWarning: Precision is ill-defined and being set to 0.0 in labels with no predicted samples. Use `zero_division` parameter to control this behavior.\n",
      "  _warn_prf(average, modifier, f\"{metric.capitalize()} is\", result.shape[0])\n",
      "/home/codespace/.local/lib/python3.12/site-packages/sklearn/metrics/_classification.py:1706: UndefinedMetricWarning: Precision is ill-defined and being set to 0.0 in labels with no predicted samples. Use `zero_division` parameter to control this behavior.\n",
      "  _warn_prf(average, modifier, f\"{metric.capitalize()} is\", result.shape[0])\n",
      "/home/codespace/.local/lib/python3.12/site-packages/sklearn/metrics/_classification.py:1706: UndefinedMetricWarning: Precision is ill-defined and being set to 0.0 in labels with no predicted samples. Use `zero_division` parameter to control this behavior.\n",
      "  _warn_prf(average, modifier, f\"{metric.capitalize()} is\", result.shape[0])\n",
      "/home/codespace/.local/lib/python3.12/site-packages/sklearn/metrics/_classification.py:1706: UndefinedMetricWarning: Precision is ill-defined and being set to 0.0 in labels with no predicted samples. Use `zero_division` parameter to control this behavior.\n",
      "  _warn_prf(average, modifier, f\"{metric.capitalize()} is\", result.shape[0])\n",
      "/home/codespace/.local/lib/python3.12/site-packages/sklearn/metrics/_classification.py:1706: UndefinedMetricWarning: Precision is ill-defined and being set to 0.0 in labels with no predicted samples. Use `zero_division` parameter to control this behavior.\n",
      "  _warn_prf(average, modifier, f\"{metric.capitalize()} is\", result.shape[0])\n",
      "/home/codespace/.local/lib/python3.12/site-packages/sklearn/metrics/_classification.py:1706: UndefinedMetricWarning: Precision is ill-defined and being set to 0.0 in labels with no predicted samples. Use `zero_division` parameter to control this behavior.\n",
      "  _warn_prf(average, modifier, f\"{metric.capitalize()} is\", result.shape[0])\n",
      "/home/codespace/.local/lib/python3.12/site-packages/sklearn/metrics/_classification.py:1706: UndefinedMetricWarning: Precision is ill-defined and being set to 0.0 in labels with no predicted samples. Use `zero_division` parameter to control this behavior.\n",
      "  _warn_prf(average, modifier, f\"{metric.capitalize()} is\", result.shape[0])\n",
      "/home/codespace/.local/lib/python3.12/site-packages/sklearn/metrics/_classification.py:1706: UndefinedMetricWarning: Precision is ill-defined and being set to 0.0 in labels with no predicted samples. Use `zero_division` parameter to control this behavior.\n",
      "  _warn_prf(average, modifier, f\"{metric.capitalize()} is\", result.shape[0])\n",
      "/home/codespace/.local/lib/python3.12/site-packages/sklearn/metrics/_classification.py:1706: UndefinedMetricWarning: Precision is ill-defined and being set to 0.0 in labels with no predicted samples. Use `zero_division` parameter to control this behavior.\n",
      "  _warn_prf(average, modifier, f\"{metric.capitalize()} is\", result.shape[0])\n",
      "/home/codespace/.local/lib/python3.12/site-packages/sklearn/metrics/_classification.py:1706: UndefinedMetricWarning: Precision is ill-defined and being set to 0.0 in labels with no predicted samples. Use `zero_division` parameter to control this behavior.\n",
      "  _warn_prf(average, modifier, f\"{metric.capitalize()} is\", result.shape[0])\n",
      "/home/codespace/.local/lib/python3.12/site-packages/sklearn/metrics/_classification.py:1706: UndefinedMetricWarning: Precision is ill-defined and being set to 0.0 in labels with no predicted samples. Use `zero_division` parameter to control this behavior.\n",
      "  _warn_prf(average, modifier, f\"{metric.capitalize()} is\", result.shape[0])\n",
      "/home/codespace/.local/lib/python3.12/site-packages/sklearn/metrics/_classification.py:1706: UndefinedMetricWarning: Precision is ill-defined and being set to 0.0 in labels with no predicted samples. Use `zero_division` parameter to control this behavior.\n",
      "  _warn_prf(average, modifier, f\"{metric.capitalize()} is\", result.shape[0])\n",
      "/home/codespace/.local/lib/python3.12/site-packages/sklearn/metrics/_classification.py:1706: UndefinedMetricWarning: Precision is ill-defined and being set to 0.0 in labels with no predicted samples. Use `zero_division` parameter to control this behavior.\n",
      "  _warn_prf(average, modifier, f\"{metric.capitalize()} is\", result.shape[0])\n",
      "/home/codespace/.local/lib/python3.12/site-packages/sklearn/metrics/_classification.py:1706: UndefinedMetricWarning: Precision is ill-defined and being set to 0.0 in labels with no predicted samples. Use `zero_division` parameter to control this behavior.\n",
      "  _warn_prf(average, modifier, f\"{metric.capitalize()} is\", result.shape[0])\n",
      "/home/codespace/.local/lib/python3.12/site-packages/sklearn/metrics/_classification.py:1706: UndefinedMetricWarning: Precision is ill-defined and being set to 0.0 in labels with no predicted samples. Use `zero_division` parameter to control this behavior.\n",
      "  _warn_prf(average, modifier, f\"{metric.capitalize()} is\", result.shape[0])\n",
      "/home/codespace/.local/lib/python3.12/site-packages/sklearn/metrics/_classification.py:1706: UndefinedMetricWarning: Precision is ill-defined and being set to 0.0 in labels with no predicted samples. Use `zero_division` parameter to control this behavior.\n",
      "  _warn_prf(average, modifier, f\"{metric.capitalize()} is\", result.shape[0])\n",
      "/home/codespace/.local/lib/python3.12/site-packages/sklearn/metrics/_classification.py:1706: UndefinedMetricWarning: Precision is ill-defined and being set to 0.0 in labels with no predicted samples. Use `zero_division` parameter to control this behavior.\n",
      "  _warn_prf(average, modifier, f\"{metric.capitalize()} is\", result.shape[0])\n",
      "/home/codespace/.local/lib/python3.12/site-packages/sklearn/metrics/_classification.py:1706: UndefinedMetricWarning: Precision is ill-defined and being set to 0.0 in labels with no predicted samples. Use `zero_division` parameter to control this behavior.\n",
      "  _warn_prf(average, modifier, f\"{metric.capitalize()} is\", result.shape[0])\n",
      "/home/codespace/.local/lib/python3.12/site-packages/sklearn/metrics/_classification.py:1706: UndefinedMetricWarning: Precision is ill-defined and being set to 0.0 in labels with no predicted samples. Use `zero_division` parameter to control this behavior.\n",
      "  _warn_prf(average, modifier, f\"{metric.capitalize()} is\", result.shape[0])\n",
      "/home/codespace/.local/lib/python3.12/site-packages/sklearn/metrics/_classification.py:1706: UndefinedMetricWarning: Precision is ill-defined and being set to 0.0 in labels with no predicted samples. Use `zero_division` parameter to control this behavior.\n",
      "  _warn_prf(average, modifier, f\"{metric.capitalize()} is\", result.shape[0])\n",
      "/home/codespace/.local/lib/python3.12/site-packages/sklearn/metrics/_classification.py:1706: UndefinedMetricWarning: Precision is ill-defined and being set to 0.0 in labels with no predicted samples. Use `zero_division` parameter to control this behavior.\n",
      "  _warn_prf(average, modifier, f\"{metric.capitalize()} is\", result.shape[0])\n",
      "/home/codespace/.local/lib/python3.12/site-packages/sklearn/metrics/_classification.py:1706: UndefinedMetricWarning: Precision is ill-defined and being set to 0.0 in labels with no predicted samples. Use `zero_division` parameter to control this behavior.\n",
      "  _warn_prf(average, modifier, f\"{metric.capitalize()} is\", result.shape[0])\n",
      "/home/codespace/.local/lib/python3.12/site-packages/sklearn/metrics/_classification.py:1706: UndefinedMetricWarning: Precision is ill-defined and being set to 0.0 in labels with no predicted samples. Use `zero_division` parameter to control this behavior.\n",
      "  _warn_prf(average, modifier, f\"{metric.capitalize()} is\", result.shape[0])\n",
      "/home/codespace/.local/lib/python3.12/site-packages/sklearn/metrics/_classification.py:1706: UndefinedMetricWarning: Precision is ill-defined and being set to 0.0 in labels with no predicted samples. Use `zero_division` parameter to control this behavior.\n",
      "  _warn_prf(average, modifier, f\"{metric.capitalize()} is\", result.shape[0])\n",
      "/home/codespace/.local/lib/python3.12/site-packages/sklearn/metrics/_classification.py:1706: UndefinedMetricWarning: Precision is ill-defined and being set to 0.0 in labels with no predicted samples. Use `zero_division` parameter to control this behavior.\n",
      "  _warn_prf(average, modifier, f\"{metric.capitalize()} is\", result.shape[0])\n"
     ]
    }
   ],
   "source": [
    "# Precision & Recall vs threshold; find intersection\n",
    "\n",
    "import numpy as np\n",
    "from sklearn.metrics import precision_score, recall_score\n",
    "\n",
    "\n",
    "thresholds = np.linspace(0.0, 1.0, 101) # [0.00, 0.01, ..., 1.00]\n",
    "scores = []\n",
    "\n",
    "for t in thresholds:\n",
    "    # Convert probability to binary prediction\n",
    "    y_pred_binary = (y_pred >= t)\n",
    "    \n",
    "    # Compute Precision and Recall\n",
    "    # zero_division=0 prevents runtime warnings when there are no positive predictions (e.g., at t=1.0)\n",
    "    precision = precision_score(y_val, y_pred_binary, average='weighted', zero_division='warn')\n",
    "    recall = recall_score(y_val, y_pred_binary, average='weighted', zero_division=0)\n",
    "    \n",
    "    scores.append((t, precision, recall))\n",
    "\n",
    "df_scores = pd.DataFrame(scores, columns=['threshold', 'precision', 'recall'])"
   ]
  },
  {
   "cell_type": "code",
   "execution_count": 211,
   "id": "c4173046-f39f-4564-a39f-7c77247d4e38",
   "metadata": {},
   "outputs": [
    {
     "data": {
      "text/html": [
       "<div>\n",
       "<style scoped>\n",
       "    .dataframe tbody tr th:only-of-type {\n",
       "        vertical-align: middle;\n",
       "    }\n",
       "\n",
       "    .dataframe tbody tr th {\n",
       "        vertical-align: top;\n",
       "    }\n",
       "\n",
       "    .dataframe thead th {\n",
       "        text-align: right;\n",
       "    }\n",
       "</style>\n",
       "<table border=\"1\" class=\"dataframe\">\n",
       "  <thead>\n",
       "    <tr style=\"text-align: right;\">\n",
       "      <th></th>\n",
       "      <th>threshold</th>\n",
       "      <th>precision</th>\n",
       "      <th>recall</th>\n",
       "    </tr>\n",
       "  </thead>\n",
       "  <tbody>\n",
       "    <tr>\n",
       "      <th>0</th>\n",
       "      <td>0.00</td>\n",
       "      <td>0.340610</td>\n",
       "      <td>0.583618</td>\n",
       "    </tr>\n",
       "    <tr>\n",
       "      <th>1</th>\n",
       "      <td>0.01</td>\n",
       "      <td>0.340610</td>\n",
       "      <td>0.583618</td>\n",
       "    </tr>\n",
       "    <tr>\n",
       "      <th>2</th>\n",
       "      <td>0.02</td>\n",
       "      <td>0.340610</td>\n",
       "      <td>0.583618</td>\n",
       "    </tr>\n",
       "    <tr>\n",
       "      <th>3</th>\n",
       "      <td>0.03</td>\n",
       "      <td>0.340610</td>\n",
       "      <td>0.583618</td>\n",
       "    </tr>\n",
       "    <tr>\n",
       "      <th>4</th>\n",
       "      <td>0.04</td>\n",
       "      <td>0.340610</td>\n",
       "      <td>0.583618</td>\n",
       "    </tr>\n",
       "    <tr>\n",
       "      <th>...</th>\n",
       "      <td>...</td>\n",
       "      <td>...</td>\n",
       "      <td>...</td>\n",
       "    </tr>\n",
       "    <tr>\n",
       "      <th>96</th>\n",
       "      <td>0.96</td>\n",
       "      <td>0.758785</td>\n",
       "      <td>0.426621</td>\n",
       "    </tr>\n",
       "    <tr>\n",
       "      <th>97</th>\n",
       "      <td>0.97</td>\n",
       "      <td>0.757586</td>\n",
       "      <td>0.419795</td>\n",
       "    </tr>\n",
       "    <tr>\n",
       "      <th>98</th>\n",
       "      <td>0.98</td>\n",
       "      <td>0.173374</td>\n",
       "      <td>0.416382</td>\n",
       "    </tr>\n",
       "    <tr>\n",
       "      <th>99</th>\n",
       "      <td>0.99</td>\n",
       "      <td>0.173374</td>\n",
       "      <td>0.416382</td>\n",
       "    </tr>\n",
       "    <tr>\n",
       "      <th>100</th>\n",
       "      <td>1.00</td>\n",
       "      <td>0.173374</td>\n",
       "      <td>0.416382</td>\n",
       "    </tr>\n",
       "  </tbody>\n",
       "</table>\n",
       "<p>101 rows × 3 columns</p>\n",
       "</div>"
      ],
      "text/plain": [
       "     threshold  precision    recall\n",
       "0         0.00   0.340610  0.583618\n",
       "1         0.01   0.340610  0.583618\n",
       "2         0.02   0.340610  0.583618\n",
       "3         0.03   0.340610  0.583618\n",
       "4         0.04   0.340610  0.583618\n",
       "..         ...        ...       ...\n",
       "96        0.96   0.758785  0.426621\n",
       "97        0.97   0.757586  0.419795\n",
       "98        0.98   0.173374  0.416382\n",
       "99        0.99   0.173374  0.416382\n",
       "100       1.00   0.173374  0.416382\n",
       "\n",
       "[101 rows x 3 columns]"
      ]
     },
     "execution_count": 211,
     "metadata": {},
     "output_type": "execute_result"
    }
   ],
   "source": [
    "df_scores"
   ]
  },
  {
   "cell_type": "code",
   "execution_count": 212,
   "id": "c354f1b9-4dc6-472f-999b-ca72a1e13831",
   "metadata": {},
   "outputs": [],
   "source": [
    "df_scores['diff'] = np.abs(df_scores.precision - df_scores.recall)\n",
    "intersection_threshold_row = df_scores.loc[df_scores['diff'].idxmin()]"
   ]
  },
  {
   "cell_type": "code",
   "execution_count": 213,
   "id": "e0cb7f38-248c-4603-a237-51259fafbedf",
   "metadata": {},
   "outputs": [
    {
     "data": {
      "text/plain": [
       "threshold    0.640000\n",
       "precision    0.743738\n",
       "recall       0.744027\n",
       "diff         0.000290\n",
       "Name: 64, dtype: float64"
      ]
     },
     "execution_count": 213,
     "metadata": {},
     "output_type": "execute_result"
    }
   ],
   "source": [
    "intersection_threshold_row"
   ]
  },
  {
   "cell_type": "code",
   "execution_count": 214,
   "id": "f9e2599a-2664-4705-b982-4981c8e31b50",
   "metadata": {},
   "outputs": [
    {
     "data": {
      "image/png": "[encoded data removed]",
      "text/plain": [
       "<Figure size 1000x600 with 1 Axes>"
      ]
     },
     "metadata": {},
     "output_type": "display_data"
    }
   ],
   "source": [
    "import matplotlib.pyplot as plt\n",
    "\n",
    "plt.figure(figsize=(10, 6))\n",
    "plt.plot(df_scores['threshold'], df_scores['precision'], label='Precision')\n",
    "plt.plot(df_scores['threshold'], df_scores['recall'], label='Recall')\n",
    "\n",
    "# Highlight the intersection point\n",
    "t_intersect = intersection_threshold_row['threshold']\n",
    "p_r_intersect = intersection_threshold_row['precision'] # Since P ≈ R at intersection\n",
    "plt.plot(t_intersect, p_r_intersect, 'ro', label=f'Intersection ({t_intersect:.2f})') \n",
    "\n",
    "plt.xlabel('Threshold'); \n",
    "plt.ylabel('Score'); \n",
    "plt.title('Precision/Recall vs Threshold')\n",
    "plt.legend(); \n",
    "plt.grid(True)\n",
    "plt.show()"
   ]
  },
  {
   "cell_type": "code",
   "execution_count": 215,
   "id": "d577bdb0-ce15-4476-8c16-0928f60064ce",
   "metadata": {},
   "outputs": [],
   "source": [
    "# 0.64 is the answer"
   ]
  },
  {
   "cell_type": "code",
   "execution_count": 224,
   "id": "6d388dfd-5b90-4349-84be-00df25dfa452",
   "metadata": {},
   "outputs": [],
   "source": [
    "#Let's compute F1 for all thresholds from 0.0 to 1.0 with increment 0.01\n",
    "\n",
    "from sklearn.metrics import f1_score\n",
    "\n",
    "thresholds = np.linspace(0, 1, 101)\n",
    "score = {}\n",
    "max_f1 = 0\n",
    "max_threshold = 0\n",
    "for t in thresholds:\n",
    "    y_pred_binary =(y_pred >= t).astype(int)\n",
    "    score[t] = f1_score(y_val, y_pred_binary)\n",
    "\n",
    "    if score[t] > max_f1:\n",
    "        max_f1 = score[t]\n",
    "        max_threshold = t\n",
    "\n",
    "        \n",
    "    "
   ]
  },
  {
   "cell_type": "code",
   "execution_count": 227,
   "id": "9a1f1010-88f4-412e-b7c2-459ce01be4fd",
   "metadata": {},
   "outputs": [
    {
     "data": {
      "text/plain": [
       "(np.float64(0.5700000000000001), 0.8125)"
      ]
     },
     "execution_count": 227,
     "metadata": {},
     "output_type": "execute_result"
    }
   ],
   "source": [
    "max_threshold, max_f1"
   ]
  },
  {
   "cell_type": "code",
   "execution_count": 230,
   "id": "b55c16ac-439b-4243-8a2e-6d67859467c7",
   "metadata": {},
   "outputs": [],
   "source": [
    "from sklearn.model_selection import KFold\n",
    "\n",
    "# 1. Initialize KFold\n",
    "kfold = KFold(n_splits=5, shuffle=True, random_state=1)\n",
    "auc_scores_cv = []\n",
    "\n",
    "# 2. Loop through 5 folds\n",
    "for train_idx, val_idx in kfold.split(df_full_train):\n",
    "    \n",
    "    # Split data for the current fold\n",
    "    df_train_f = df_full_train.iloc[train_idx]\n",
    "    df_val_f = df_full_train.iloc[val_idx]\n",
    "\n",
    "    y_train_f = df_train_f['converted'].values\n",
    "    y_val_f = df_val_f['converted'].values\n",
    "\n",
    "    # Feature preparation (Fit DictVectorizer ONLY on train_fold)\n",
    "    dv = DictVectorizer(sparse=False)\n",
    "    X_train_f = dv.fit_transform(df_train_f[categorical + numerical].to_dict(orient='records'))\n",
    "    X_val_f = dv.transform(df_val_f[categorical + numerical].to_dict(orient='records'))\n",
    "\n",
    "    # Train Model \n",
    "    model_f = LogisticRegression(solver='liblinear', C=1.0, max_iter=1000, random_state=1)\n",
    "    model_f.fit(X_train_f, y_train_f)\n",
    "\n",
    "    # Predict and Score\n",
    "    y_pred_val_f = model_f.predict_proba(X_val_f)[:, 1]\n",
    "    auc_score = roc_auc_score(y_val_f, y_pred_val_f)\n",
    "    auc_scores_cv.append(auc_score)\n",
    "\n",
    "# 3. Compute Standard Deviation\n",
    "std_dev_auc = np.std(auc_scores_cv)"
   ]
  },
  {
   "cell_type": "code",
   "execution_count": 231,
   "id": "0d4a539e-9ed1-49d0-ac6c-56d84cc3c748",
   "metadata": {},
   "outputs": [
    {
     "data": {
      "text/plain": [
       "np.float64(0.03580711942905165)"
      ]
     },
     "execution_count": 231,
     "metadata": {},
     "output_type": "execute_result"
    }
   ],
   "source": [
    "std_dev_auc"
   ]
  },
  {
   "cell_type": "code",
   "execution_count": 240,
   "id": "b02a7242-9e78-4c67-88cd-15a25acf20de",
   "metadata": {},
   "outputs": [],
   "source": [
    "# 1. Initialize KFold\n",
    "\n",
    "c = [0.000001, 0.001, 1]\n",
    "kfold = KFold(n_splits=5, shuffle=True, random_state=1)\n",
    "\n",
    "res = {}\n",
    "\n",
    "# 2. Loop through 5 folds\n",
    "for c in c:\n",
    "    auc_scores_cv = []\n",
    "    for train_idx, val_idx in kfold.split(df_full_train):\n",
    "        \n",
    "        # Split data for the current fold\n",
    "        df_train_f = df_full_train.iloc[train_idx]\n",
    "        df_val_f = df_full_train.iloc[val_idx]\n",
    "    \n",
    "        y_train_f = df_train_f['converted'].values\n",
    "        y_val_f = df_val_f['converted'].values\n",
    "    \n",
    "        # Feature preparation (Fit DictVectorizer ONLY on train_fold)\n",
    "        dv = DictVectorizer(sparse=False)\n",
    "        X_train_f = dv.fit_transform(df_train_f[categorical + numerical].to_dict(orient='records'))\n",
    "        X_val_f = dv.transform(df_val_f[categorical + numerical].to_dict(orient='records'))\n",
    "    \n",
    "        # Train Model \n",
    "        model_f = LogisticRegression(solver='liblinear', C=c, max_iter=1000, random_state=1)\n",
    "        model_f.fit(X_train_f, y_train_f)\n",
    "    \n",
    "        # Predict and Score\n",
    "        y_pred_val_f = model_f.predict_proba(X_val_f)[:, 1]\n",
    "        auc_score = roc_auc_score(y_val_f, y_pred_val_f)\n",
    "        auc_scores_cv.append(auc_score)\n",
    "\n",
    "    res[c] = {\n",
    "    'mean_auc': round(np.mean(auc_scores_cv),3),\n",
    "    'std_auc': round(np.std(auc_scores_cv),3)\n",
    "    }"
   ]
  },
  {
   "cell_type": "code",
   "execution_count": 241,
   "id": "8da56c98-09ce-497a-86b8-3b05a4c36d05",
   "metadata": {},
   "outputs": [
    {
     "data": {
      "text/plain": [
       "{1e-06: {'mean_auc': np.float64(0.56), 'std_auc': np.float64(0.024)},\n",
       " 0.001: {'mean_auc': np.float64(0.867), 'std_auc': np.float64(0.029)},\n",
       " 1: {'mean_auc': np.float64(0.822), 'std_auc': np.float64(0.036)}}"
      ]
     },
     "execution_count": 241,
     "metadata": {},
     "output_type": "execute_result"
    }
   ],
   "source": [
    "res"
   ]
  },
  {
   "cell_type": "code",
   "execution_count": 242,
   "id": "8aef95b9-69b4-4a30-bd51-96fbf546454f",
   "metadata": {},
   "outputs": [],
   "source": [
    "# best mean score is 0.867 at c = 0.001"
   ]
  },
  {
   "cell_type": "code",
   "execution_count": null,
   "id": "fcb2d8fb-9be2-4508-95f0-35e8ba5c5f63",
   "metadata": {},
   "outputs": [],
   "source": []
  }
 ],
 "metadata": {
  "kernelspec": {
   "display_name": "Python 3 (ipykernel)",
   "language": "python",
   "name": "python3"
  },
  "language_info": {
   "codemirror_mode": {
    "name": "ipython",
    "version": 3
   },
   "file_extension": ".py",
   "mimetype": "text/x-python",
   "name": "python",
   "nbconvert_exporter": "python",
   "pygments_lexer": "ipython3",
   "version": "3.12.1"
  }
 },
 "nbformat": 4,
 "nbformat_minor": 5
}
